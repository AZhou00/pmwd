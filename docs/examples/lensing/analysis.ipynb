{
 "cells": [
  {
   "cell_type": "code",
   "execution_count": null,
   "metadata": {},
   "outputs": [],
   "source": [
    "%reload_ext autoreload\n",
    "%autoreload 2\n",
    "\n",
    "import os, sys, json\n",
    "os.environ['XLA_PYTHON_CLIENT_PREALLOCATE'] = 'false'\n",
    "sys.path.insert(0, '/hildafs/projects/phy230056p/junzhez/pmwd_test/pmwd_raytracing/fin_test')\n",
    "\n",
    "import jax\n",
    "import jax.numpy as jnp\n",
    "import numpy as np\n",
    "\n",
    "import matplotlib.pyplot as plt\n",
    "%matplotlib inline \n",
    "import seaborn as sns\n",
    "\n",
    "# Configure seaborn for matplotlib\n",
    "cmap_ch_blues = sns.cubehelix_palette(start=.5, rot=-.75, as_cmap=True)\n",
    "cmap_crest = sns.color_palette(\"crest\", as_cmap=True)\n",
    "cmap_icefire = sns.color_palette(\"icefire\", as_cmap=True)\n",
    "cmap_vlag = sns.color_palette(\"vlag\", as_cmap=True)\n",
    "\n",
    "plt.rcParams.update(plt.rcParamsDefault)\n",
    "plt.rcParams.update({'font.size': 18})\n",
    "\n",
    "from process_cl import plot_error, plot, plot_map, plot_map_pdf\n",
    "\n",
    "def load_configs():\n",
    "    with open('/hildafs/projects/phy230056p/junzhez/pmwd_test/pmwd_raytracing/fin_test/config_run.json', 'r') as file:\n",
    "        configs = json.load(file)\n",
    "    return configs\n",
    "\n",
    "configs = load_configs()"
   ]
  },
  {
   "cell_type": "markdown",
   "metadata": {},
   "source": [
    "### SO (high z)"
   ]
  },
  {
   "cell_type": "code",
   "execution_count": null,
   "metadata": {},
   "outputs": [],
   "source": [
    "plt.close()\n",
    "z_rt_end = 1.034\n",
    "config_names = [\"t30_z10\", \"t30_z10_so\"]\n",
    "config_objects = [configs[name] for name in config_names if name in configs]\n",
    "\n",
    "varname = \"so\"\n",
    "vartex = '$SO$'\n",
    "l = np.logspace(np.log10(50), np.log10(3000), 100)\n",
    "xlim = (300, 3000)\n",
    "f, axs = plot(config_objects, config_names, varname, vartex, z_rt_end, samples=list(range(0, 40)), l=None, plot_xlim=xlim, relerr='theory', plot_ktng=True)\n",
    "axs['cl'].legend(bbox_to_anchor=(0.5, 1.35), loc='upper center', ncol=2, frameon=False, columnspacing=1)\n",
    "axs['cl'].set_ylim(2e-5, 2e-4)\n",
    "axs['error'].set_ylim(-0.5, 0.5)\n",
    "\n",
    "L = jnp.pi / (8 * 2 * 0.4 / 2351)\n",
    "axs['cl'].axvline(L, ls='--', c='k')\n",
    "axs['error'].axvline(L, ls='--', c='k')\n",
    "\n",
    "axs['cl'].set_xticks([300, 400, 600, 800, 1000, 2000, 3000], ['300', '400', '600', '800', '1000', '2000', '3000'])\n",
    "axs['error'].set_xticks([300, 400, 600, 800, 1000, 2000, 3000], ['300','400', '600', '800', '1000', '2000', '3000'])\n",
    "# ax.set_xticks(ax.get_xticks()[1:])\n",
    "# ax.set_yticks(ax.get_yticks()[:-1])\n",
    "\n",
    "plt.subplots_adjust(hspace=0.1)\n",
    "# plt.savefig('/hildafs/projects/phy230056p/junzhez/pmwd_test/pmwd_raytracing/new/cl_new.pdf', bbox_inches='tight')\n",
    "plt.show()"
   ]
  },
  {
   "cell_type": "markdown",
   "metadata": {},
   "source": [
    "### time steps (high z)"
   ]
  },
  {
   "cell_type": "code",
   "execution_count": null,
   "metadata": {},
   "outputs": [],
   "source": [
    "plt.close()\n",
    "z_rt_end = 1.034\n",
    "config_names = [\"t30_z10_so\", \"t40_z10_so\"]\n",
    "config_objects = [configs[name] for name in config_names if name in configs]\n",
    "\n",
    "varname = \"t_step\"\n",
    "vartex = '$\\mathrm{steps}$'\n",
    "l = np.logspace(np.log10(50), np.log10(3000), 100)\n",
    "xlim = (300, 3000)\n",
    "f, axs = plot(config_objects, config_names, varname, vartex, z_rt_end, samples=list(range(0, 40)), l=None, plot_xlim=xlim, relerr='theory', plot_ktng=True)\n",
    "axs['cl'].legend(bbox_to_anchor=(0.5, 1.35), loc='upper center', ncol=2, frameon=False, columnspacing=1)\n",
    "axs['cl'].set_ylim(2e-5, 2e-4)\n",
    "axs['error'].set_ylim(-0.5, 0.5)\n",
    "\n",
    "L = jnp.pi / (8 * 2 * 0.4 / 2351)\n",
    "axs['cl'].axvline(L, ls='--', c='k')\n",
    "axs['error'].axvline(L, ls='--', c='k')\n",
    "\n",
    "axs['cl'].set_xticks([300, 400, 600, 800, 1000, 2000, 3000], ['300', '400', '600', '800', '1000', '2000', '3000'])\n",
    "axs['error'].set_xticks([300, 400, 600, 800, 1000, 2000, 3000], ['300','400', '600', '800', '1000', '2000', '3000'])\n",
    "# ax.set_xticks(ax.get_xticks()[1:])\n",
    "# ax.set_yticks(ax.get_yticks()[:-1])\n",
    "\n",
    "plt.subplots_adjust(hspace=0.1)\n",
    "plt.savefig('/hildafs/projects/phy230056p/junzhez/pmwd_test/pmwd_raytracing/fin_test/cl_time.pdf', bbox_inches='tight')\n",
    "plt.show()"
   ]
  },
  {
   "cell_type": "markdown",
   "metadata": {},
   "source": [
    "### iotac(high z)"
   ]
  },
  {
   "cell_type": "code",
   "execution_count": null,
   "metadata": {},
   "outputs": [],
   "source": [
    "plt.close()\n",
    "z_rt_end = 1.034\n",
    "config_names = [\"t30_z10_so\", \"t30_z10_so_iota1\"]\n",
    "config_objects = [configs[name] for name in config_names if name in configs]\n",
    "\n",
    "varname = \"iota\"\n",
    "vartex = '$\\iota$'\n",
    "l = np.logspace(np.log10(50), np.log10(3000), 100)\n",
    "xlim = (300, 3000)\n",
    "f, axs = plot(config_objects, config_names, varname, vartex, z_rt_end, samples=list(range(0, 40)), l=None, plot_xlim=xlim, relerr='theory', plot_ktng=True)\n",
    "axs['cl'].legend(bbox_to_anchor=(0.5, 1.35), loc='upper center', ncol=2, frameon=False, columnspacing=1)\n",
    "axs['cl'].set_ylim(2e-5, 2e-4)\n",
    "axs['error'].set_ylim(-0.5, 0.5)\n",
    "\n",
    "L = jnp.pi / (8 * 2 * 0.4 / 2351)\n",
    "axs['cl'].axvline(L, ls='--', c='k')\n",
    "axs['error'].axvline(L, ls='--', c='k')\n",
    "\n",
    "axs['cl'].set_xticks([300, 400, 600, 800, 1000, 2000, 3000], ['300', '400', '600', '800', '1000', '2000', '3000'])\n",
    "axs['error'].set_xticks([300, 400, 600, 800, 1000, 2000, 3000], ['300','400', '600', '800', '1000', '2000', '3000'])\n",
    "# ax.set_xticks(ax.get_xticks()[1:])\n",
    "# ax.set_yticks(ax.get_yticks()[:-1])\n",
    "\n",
    "plt.subplots_adjust(hspace=0.1)\n",
    "plt.savefig('/hildafs/projects/phy230056p/junzhez/pmwd_test/pmwd_raytracing/fin_test/cl_iota.pdf', bbox_inches='tight')\n",
    "plt.show()"
   ]
  },
  {
   "cell_type": "code",
   "execution_count": null,
   "metadata": {},
   "outputs": [],
   "source": []
  }
 ],
 "metadata": {
  "kernelspec": {
   "display_name": "Python 3 (ipykernel)",
   "language": "python",
   "name": "python3"
  }
 },
 "nbformat": 4,
 "nbformat_minor": 2
}
